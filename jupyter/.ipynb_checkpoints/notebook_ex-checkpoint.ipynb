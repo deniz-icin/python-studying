{
 "cells": [
  {
   "cell_type": "markdown",
   "id": "f4465e74",
   "metadata": {},
   "source": [
    "    ## deneme // ctrl + enter = run"
   ]
  },
  {
   "cell_type": "code",
   "execution_count": 1,
   "id": "698794ff",
   "metadata": {},
   "outputs": [
    {
     "name": "stdout",
     "output_type": "stream",
     "text": [
      "Sayi giriniz = 5\n",
      "asal\n"
     ]
    }
   ],
   "source": [
    "sayi = int(input('Sayi giriniz = '))\n",
    "\n",
    "asalMi = True\n",
    "\n",
    "for x in range(2,sayi):\n",
    "    if (sayi % x) == 0:\n",
    "        asalMi = False\n",
    "        break\n",
    "\n",
    "if sayi == 1 or sayi == 0:\n",
    "    print(\"0 ve 1 sayıları asal sayi degildir.\")\n",
    "elif asalMi == True:\n",
    "    print('asal')\n",
    "else:\n",
    "    print('asal degil')"
   ]
  },
  {
   "cell_type": "code",
   "execution_count": null,
   "id": "2da8fa6a",
   "metadata": {},
   "outputs": [],
   "source": [
    "n = 5\n",
    "for i in range(n):\n",
    "    print(i*n)"
   ]
  },
  {
   "cell_type": "code",
   "execution_count": null,
   "id": "68194cf2",
   "metadata": {},
   "outputs": [
    {
     "name": "stdout",
     "output_type": "stream",
     "text": [
      "tesekkurler TR\n"
     ]
    }
   ],
   "source": [
    "def print_full_name(first, last):\n",
    "    first = first_name\n",
    "    last = last_name\n",
    "    print(\"Hello\", first, last+\"!\", \"You just delved into python.\")\n",
    "    \n",
    "if __name__ == '__main__':\n",
    "    first_name = input()\n",
    "    last_name = input()\n",
    "    print_full_name(first_name, last_name)"
   ]
  },
  {
   "cell_type": "code",
   "execution_count": 8,
   "id": "b6e901c7",
   "metadata": {},
   "outputs": [
    {
     "name": "stdout",
     "output_type": "stream",
     "text": [
      "[[0, 0, 0], [0, 0, 1], [0, 1, 0], [0, 1, 2], [1, 0, 0], [1, 0, 2], [1, 1, 1], [1, 1, 2]]\n"
     ]
    }
   ],
   "source": [
    "if __name__ == '__main__':\n",
    "    x = int(input())\n",
    "    y = int(input())\n",
    "    z = int(input())\n",
    "    n = int(input())\n",
    "\n",
    "list = []\n",
    "for i in range(x + 1):\n",
    "    for j in range(y + 1):\n",
    "        for k in range(z + 1):\n",
    "            if i+j+k != n:\n",
    "                list.append([i, j, k])\n",
    "print(list)"
   ]
  }
 ],
 "metadata": {
  "kernelspec": {
   "display_name": "Python 3 (ipykernel)",
   "language": "python",
   "name": "python3"
  },
  "language_info": {
   "codemirror_mode": {
    "name": "ipython",
    "version": 3
   },
   "file_extension": ".py",
   "mimetype": "text/x-python",
   "name": "python",
   "nbconvert_exporter": "python",
   "pygments_lexer": "ipython3",
   "version": "3.9.13"
  },
  "vscode": {
   "interpreter": {
    "hash": "192bf11bc64230f55701a3db2c8fb326cba9f6949b5a9f1e5ee325893980765d"
   }
  }
 },
 "nbformat": 4,
 "nbformat_minor": 5
}
