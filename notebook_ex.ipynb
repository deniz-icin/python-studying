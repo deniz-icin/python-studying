{
 "cells": [
  {
   "cell_type": "markdown",
   "id": "f4465e74",
   "metadata": {},
   "source": [
    "    ## deneme // ctrl + enter = run"
   ]
  },
  {
   "cell_type": "code",
   "execution_count": 1,
   "id": "2da8fa6a",
   "metadata": {},
   "outputs": [],
   "source": [
    "n = 5\n",
    "for i in range(n):\n",
    "    print(i*n)"
   ]
  },
  {
   "cell_type": "code",
   "execution_count": 1,
   "id": "68194cf2",
   "metadata": {},
   "outputs": [
    {
     "name": "stdout",
     "output_type": "stream",
     "text": [
      "tesekkurler TR\n"
     ]
    }
   ],
   "source": [
    "print(\"tesekkurler TR\")"
   ]
  }
 ],
 "metadata": {
  "kernelspec": {
   "display_name": "Python 3.9.13 64-bit (microsoft store)",
   "language": "python",
   "name": "python3"
  },
  "language_info": {
   "codemirror_mode": {
    "name": "ipython",
    "version": 3
   },
   "file_extension": ".py",
   "mimetype": "text/x-python",
   "name": "python",
   "nbconvert_exporter": "python",
   "pygments_lexer": "ipython3",
   "version": "3.9.13"
  },
  "vscode": {
   "interpreter": {
    "hash": "192bf11bc64230f55701a3db2c8fb326cba9f6949b5a9f1e5ee325893980765d"
   }
  }
 },
 "nbformat": 4,
 "nbformat_minor": 5
}
